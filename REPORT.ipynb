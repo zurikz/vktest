{
 "cells": [
  {
   "cell_type": "code",
   "execution_count": null,
   "id": "b6480e99-d230-44cb-8440-112b79a1a77a",
   "metadata": {},
   "outputs": [],
   "source": []
  },
  {
   "cell_type": "markdown",
   "id": "f325d419-71ed-4c16-b450-b205459639c1",
   "metadata": {},
   "source": [
    "## Отчет\n",
    "\n",
    "Была выбрана статья: https://arxiv.org/pdf/2011.00316.pdf"
   ]
  },
  {
   "cell_type": "markdown",
   "id": "3d669115-6eaf-45fa-91d9-c4dfcaf28bcf",
   "metadata": {},
   "source": [
    "Метод реализован здесь: "
   ]
  }
 ],
 "metadata": {
  "kernelspec": {
   "display_name": "vktest",
   "language": "python",
   "name": "vktest"
  },
  "language_info": {
   "codemirror_mode": {
    "name": "ipython",
    "version": 3
   },
   "file_extension": ".py",
   "mimetype": "text/x-python",
   "name": "python",
   "nbconvert_exporter": "python",
   "pygments_lexer": "ipython3",
   "version": "3.7.8"
  }
 },
 "nbformat": 4,
 "nbformat_minor": 5
}
