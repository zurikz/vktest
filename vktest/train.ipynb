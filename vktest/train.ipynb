{
 "cells": [
  {
   "cell_type": "code",
   "execution_count": 1,
   "id": "e28413e5-cb27-4e50-84b7-1a2ad9ea46e2",
   "metadata": {},
   "outputs": [],
   "source": [
    "%reload_ext autoreload\n",
    "%autoreload 2\n",
    "from vktest.dataset import VCTK\n",
    "from vktest.litmodel import LitAgainVC\n",
    "from torch.utils.data import DataLoader\n",
    "\n",
    "import pytorch_lightning as pl\n",
    "from pytorch_lightning import Trainer\n",
    "from pytorch_lightning.callbacks import ModelCheckpoint\n",
    "\n",
    "import wandb\n",
    "from pytorch_lightning.loggers import WandbLogger"
   ]
  },
  {
   "cell_type": "code",
   "execution_count": 2,
   "id": "0e0ccb13-939d-4fb3-9c38-515da3dbbf8b",
   "metadata": {},
   "outputs": [],
   "source": [
    "root = \"../dataset/\"\n",
    "VCTK_train = VCTK(root, train=True)\n",
    "VCTK_val = VCTK(root, train=False)"
   ]
  },
  {
   "cell_type": "code",
   "execution_count": 3,
   "id": "b5171188-5a69-4e29-b49f-3cdfd9ecf541",
   "metadata": {},
   "outputs": [],
   "source": [
    "train_loader = DataLoader(dataset=VCTK_train, num_workers=4, batch_size=100, pin_memory=True)\n",
    "val_loader = DataLoader(dataset=VCTK_val, num_workers=4, batch_size=100, pin_memory=True)"
   ]
  },
  {
   "cell_type": "code",
   "execution_count": 4,
   "id": "25bc18ae-a84c-43b4-ae2e-811245dfaafc",
   "metadata": {},
   "outputs": [],
   "source": [
    "encoder_params = {\n",
    "    \"melbins\": 80,\n",
    "    \"melbins_out\": 4,\n",
    "    \"hidden_size\": 256,\n",
    "    \"conv_blocks_num\": 6\n",
    "}\n",
    "decoder_params = {\n",
    "    \"melbins\": 4,\n",
    "    \"melbins_out\": 80,\n",
    "    \"hidden_size\": 256,\n",
    "    \"conv_blocks_num\": 6\n",
    "}\n",
    "model = LitAgainVC(encoder_params, decoder_params)"
   ]
  },
  {
   "cell_type": "code",
   "execution_count": 5,
   "id": "4ace7e61-9061-446b-a87c-a79273fa7d68",
   "metadata": {
    "tags": []
   },
   "outputs": [
    {
     "name": "stderr",
     "output_type": "stream",
     "text": [
      "Failed to detect the name of this notebook, you can set it manually with the WANDB_NOTEBOOK_NAME environment variable to enable code saving.\n",
      "\u001b[34m\u001b[1mwandb\u001b[0m: Currently logged in as: \u001b[33mzurikz\u001b[0m (use `wandb login --relogin` to force relogin)\n"
     ]
    },
    {
     "data": {
      "text/plain": [
       "True"
      ]
     },
     "execution_count": 5,
     "metadata": {},
     "output_type": "execute_result"
    }
   ],
   "source": [
    "wandb.login()"
   ]
  },
  {
   "cell_type": "code",
   "execution_count": 6,
   "id": "e3b6c003-a6d7-44b7-8289-aeef5ad89cf4",
   "metadata": {},
   "outputs": [
    {
     "name": "stderr",
     "output_type": "stream",
     "text": [
      "GPU available: True, used: True\n",
      "TPU available: False, using: 0 TPU cores\n"
     ]
    }
   ],
   "source": [
    "checkpoint_callback = ModelCheckpoint(dirpath='.')\n",
    "\n",
    "wandb_logger = WandbLogger(\n",
    "    name=\"again_vc_training\",\n",
    "    project=\"vktest\"\n",
    ")\n",
    "\n",
    "trainer = Trainer(\n",
    "    gpus=1,\n",
    "    callbacks=[checkpoint_callback],\n",
    "    log_every_n_steps=10,\n",
    "#     precision=16,\n",
    "#     overfit_batches=0.01,\n",
    "    max_steps=100000,\n",
    "#     tpu_cores=8,\n",
    "#     default_root_dir=\"\",\n",
    "    weights_save_path=\"checkpoints\",\n",
    "    gradient_clip_val=3,\n",
    "    benchmark=True,\n",
    "    auto_scale_batch_size='binsearch',\n",
    "    logger=wandb_logger,\n",
    ")"
   ]
  },
  {
   "cell_type": "code",
   "execution_count": null,
   "id": "2c9e6807-a6ee-478f-9963-65d08fc8ac9a",
   "metadata": {},
   "outputs": [
    {
     "name": "stderr",
     "output_type": "stream",
     "text": [
      "LOCAL_RANK: 0 - CUDA_VISIBLE_DEVICES: [0]\n"
     ]
    },
    {
     "data": {
      "text/html": [
       "\n",
       "                Tracking run with wandb version 0.10.32<br/>\n",
       "                Syncing run <strong style=\"color:#cdcd00\">again_vc_training</strong> to <a href=\"https://wandb.ai\" target=\"_blank\">Weights & Biases</a> <a href=\"https://docs.wandb.com/integrations/jupyter.html\" target=\"_blank\">(Documentation)</a>.<br/>\n",
       "                Project page: <a href=\"https://wandb.ai/zurikz/vktest\" target=\"_blank\">https://wandb.ai/zurikz/vktest</a><br/>\n",
       "                Run page: <a href=\"https://wandb.ai/zurikz/vktest/runs/30dd1j8d\" target=\"_blank\">https://wandb.ai/zurikz/vktest/runs/30dd1j8d</a><br/>\n",
       "                Run data is saved locally in <code>/home/zu/dev/vktest/vktest/wandb/run-20210617_112202-30dd1j8d</code><br/><br/>\n",
       "            "
      ],
      "text/plain": [
       "<IPython.core.display.HTML object>"
      ]
     },
     "metadata": {},
     "output_type": "display_data"
    },
    {
     "name": "stderr",
     "output_type": "stream",
     "text": [
      "\n",
      "  | Name    | Type          | Params\n",
      "------------------------------------------\n",
      "0 | encoder | Encoder       | 416 K \n",
      "1 | decoder | Decoder       | 1.2 M \n",
      "2 | sigmoid | CustomSigmoid | 0     \n",
      "------------------------------------------\n",
      "1.6 M     Trainable params\n",
      "0         Non-trainable params\n",
      "1.6 M     Total params\n",
      "6.486     Total estimated model params size (MB)\n"
     ]
    },
    {
     "data": {
      "application/vnd.jupyter.widget-view+json": {
       "model_id": "",
       "version_major": 2,
       "version_minor": 0
      },
      "text/plain": [
       "Validation sanity check: 0it [00:00, ?it/s]"
      ]
     },
     "metadata": {},
     "output_type": "display_data"
    },
    {
     "data": {
      "application/vnd.jupyter.widget-view+json": {
       "model_id": "6260e2cc9f754811ac15ef944e728265",
       "version_major": 2,
       "version_minor": 0
      },
      "text/plain": [
       "Training: 0it [00:00, ?it/s]"
      ]
     },
     "metadata": {},
     "output_type": "display_data"
    },
    {
     "data": {
      "application/vnd.jupyter.widget-view+json": {
       "model_id": "",
       "version_major": 2,
       "version_minor": 0
      },
      "text/plain": [
       "Validating: 0it [00:00, ?it/s]"
      ]
     },
     "metadata": {},
     "output_type": "display_data"
    },
    {
     "data": {
      "application/vnd.jupyter.widget-view+json": {
       "model_id": "",
       "version_major": 2,
       "version_minor": 0
      },
      "text/plain": [
       "Validating: 0it [00:00, ?it/s]"
      ]
     },
     "metadata": {},
     "output_type": "display_data"
    },
    {
     "data": {
      "application/vnd.jupyter.widget-view+json": {
       "model_id": "",
       "version_major": 2,
       "version_minor": 0
      },
      "text/plain": [
       "Validating: 0it [00:00, ?it/s]"
      ]
     },
     "metadata": {},
     "output_type": "display_data"
    },
    {
     "data": {
      "application/vnd.jupyter.widget-view+json": {
       "model_id": "",
       "version_major": 2,
       "version_minor": 0
      },
      "text/plain": [
       "Validating: 0it [00:00, ?it/s]"
      ]
     },
     "metadata": {},
     "output_type": "display_data"
    },
    {
     "data": {
      "application/vnd.jupyter.widget-view+json": {
       "model_id": "",
       "version_major": 2,
       "version_minor": 0
      },
      "text/plain": [
       "Validating: 0it [00:00, ?it/s]"
      ]
     },
     "metadata": {},
     "output_type": "display_data"
    },
    {
     "data": {
      "application/vnd.jupyter.widget-view+json": {
       "model_id": "",
       "version_major": 2,
       "version_minor": 0
      },
      "text/plain": [
       "Validating: 0it [00:00, ?it/s]"
      ]
     },
     "metadata": {},
     "output_type": "display_data"
    }
   ],
   "source": [
    "trainer.fit(\n",
    "    model=model,\n",
    "    train_dataloader=train_loader,\n",
    "    val_dataloaders=val_loader\n",
    ")"
   ]
  }
 ],
 "metadata": {
  "kernelspec": {
   "display_name": "vktest",
   "language": "python",
   "name": "vktest"
  },
  "language_info": {
   "codemirror_mode": {
    "name": "ipython",
    "version": 3
   },
   "file_extension": ".py",
   "mimetype": "text/x-python",
   "name": "python",
   "nbconvert_exporter": "python",
   "pygments_lexer": "ipython3",
   "version": "3.7.8"
  }
 },
 "nbformat": 4,
 "nbformat_minor": 5
}
